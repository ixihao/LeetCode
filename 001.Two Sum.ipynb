{
 "cells": [
  {
   "cell_type": "markdown",
   "metadata": {},
   "source": [
    "#### 001. Two Sum : [link](https://leetcode.com/problems/two-sum/)\n",
    "#### 1.1 Basic Method:\n",
    "**Idea**: Loop all the numbers in nums, then sum every two items and check if the sum equal to target.    \n",
    "**Time Complexity**: O(n^2)"
   ]
  },
  {
   "cell_type": "code",
   "execution_count": 7,
   "metadata": {},
   "outputs": [],
   "source": [
    "class Solution:\n",
    "    def twoSum(self, nums, target):\n",
    "        # Basic Method\n",
    "        for i in range(len(nums)):\n",
    "            for j in range(i+1, len(nums)):\n",
    "                if nums[i] + nums[j] == target:\n",
    "                    return[i,j]"
   ]
  },
  {
   "cell_type": "markdown",
   "metadata": {},
   "source": [
    "#### 1.2 Fastest Method:\n",
    "**Idea**: Create a dictionary(index) store the value:index pair, if the difference in the dictionary, just return; else update the dictionary. This method is just loop nums once. And can skip the situation that the item and the difference is the same, since the first time come across the item, the difference(item itself) isn't in the dictionary.   \n",
    "**Time Complexity**: O(n)"
   ]
  },
  {
   "cell_type": "code",
   "execution_count": 8,
   "metadata": {},
   "outputs": [],
   "source": [
    "class Solution:\n",
    "    def twoSum(self, nums, target):\n",
    "        # Fastest Method\n",
    "        index = {}\n",
    "        for key, value in enumerate(nums):\n",
    "            if target-value in index:\n",
    "                return [index[target-value], key]\n",
    "            # Update the dictionary\n",
    "            index[value] = key"
   ]
  },
  {
   "cell_type": "markdown",
   "metadata": {},
   "source": [
    "#### 1.3 Shortest Method:\n",
    "**Idea**: Try to find the difference in the remaining list, and return the index pair. This method can skip the situation that the difference is the same as the item.  \n",
    "**Time Complexity**: O(n^2), since time complexity of list.index(x) is O(n)"
   ]
  },
  {
   "cell_type": "code",
   "execution_count": 9,
   "metadata": {},
   "outputs": [],
   "source": [
    "class Solution:\n",
    "    def twoSum(self, nums, target):\n",
    "        # Shortest Method\n",
    "        for i,v in enumerate(nums):        \n",
    "            try: return [i, nums[i+1:].index(target-v)+i+1]\n",
    "            except: pass"
   ]
  },
  {
   "cell_type": "markdown",
   "metadata": {},
   "source": [
    "#### 1.4 Summary\n",
    "**1.** Use hashmap to store something is a better way to be faster."
   ]
  },
  {
   "cell_type": "code",
   "execution_count": null,
   "metadata": {},
   "outputs": [],
   "source": []
  }
 ],
 "metadata": {
  "kernelspec": {
   "display_name": "Python 3",
   "language": "python",
   "name": "python3"
  },
  "language_info": {
   "codemirror_mode": {
    "name": "ipython",
    "version": 3
   },
   "file_extension": ".py",
   "mimetype": "text/x-python",
   "name": "python",
   "nbconvert_exporter": "python",
   "pygments_lexer": "ipython3",
   "version": "3.6.5"
  }
 },
 "nbformat": 4,
 "nbformat_minor": 2
}
